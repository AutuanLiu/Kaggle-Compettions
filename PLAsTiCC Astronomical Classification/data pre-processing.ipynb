{
 "cells": [
  {
   "cell_type": "markdown",
   "metadata": {},
   "source": [
    "[PLAsTiCC Astronomical Classification | Kaggle](https://www.kaggle.com/c/PLAsTiCC-2018)"
   ]
  },
  {
   "cell_type": "markdown",
   "metadata": {},
   "source": [
    "Code Link: [Github](https://github.com/AutuanLiu/Kaggle-Compettions/tree/master/PLAsTiCC%20Astronomical%20Classification)\n",
    "#### Ref Links\n",
    "1. [Naive Benchmark - Galactic vs Extragalactic | Kaggle](https://www.kaggle.com/kyleboone/naive-benchmark-galactic-vs-extragalactic)\n",
    "2. [The Astronomical (complete) EDA - PLAsTiCC dataset | Kaggle](https://www.kaggle.com/danilodiogo/the-astronomical-complete-eda-plasticc-dataset)\n",
    "3. [All Classes Light Curve Characteristics | Kaggle](https://www.kaggle.com/mithrillion/all-classes-light-curve-characteristics)\n",
    "4. [Simple Neural Net for Time Series Classification | Kaggle](https://www.kaggle.com/meaninglesslives/simple-neural-net-for-time-series-classification)\n",
    "5. [Dataset overview - Exploration and comments | Kaggle](https://www.kaggle.com/hrmello/dataset-overview-exploration-and-comments)\n",
    "6. [Strategies for Flux Time Series Preprocessing | Kaggle](https://www.kaggle.com/mithrillion/strategies-for-flux-time-series-preprocessing)\n",
    "7. [The PLAsTiCC Astronomy \"Starter Kit\" | Kaggle](https://www.kaggle.com/michaelapers/the-plasticc-astronomy-starter-kit)"
   ]
  },
  {
   "cell_type": "code",
   "execution_count": 1,
   "metadata": {},
   "outputs": [],
   "source": [
    "%matplotlib inline\n",
    "%reload_ext autoreload\n",
    "%autoreload 2"
   ]
  },
  {
   "cell_type": "code",
   "execution_count": 2,
   "metadata": {},
   "outputs": [],
   "source": [
    "from IPython.core.interactiveshell import InteractiveShell\n",
    "InteractiveShell.ast_node_interactivity = \"all\"\n",
    "import pandas as pd\n",
    "import numpy as np\n",
    "import xgboost as xgb\n",
    "import seaborn as sns\n",
    "import matplotlib.pyplot as plt\n",
    "import re\n",
    "from collections import Counter\n",
    "from sklearn.preprocessing import LabelEncoder\n",
    "sns.set_style('whitegrid')\n",
    "sns.set_palette('Set1')"
   ]
  },
  {
   "cell_type": "markdown",
   "metadata": {},
   "source": [
    "## 1 导入数据"
   ]
  },
  {
   "cell_type": "code",
   "execution_count": 3,
   "metadata": {},
   "outputs": [],
   "source": [
    "datadir = 'dataset/'"
   ]
  },
  {
   "cell_type": "code",
   "execution_count": 4,
   "metadata": {},
   "outputs": [],
   "source": [
    "# read data from file\n",
    "# train_data = pd.read_csv(f'{datadir}training_set.csv')\n",
    "# test_data = pd.read_csv(f'{datadir}test_set.csv')\n",
    "train_metadata = pd.read_csv(f'{datadir}training_set_metadata.csv')\n",
    "# test_metadata = pd.read_csv(f'{datadir}test_set_metadata.csv')"
   ]
  },
  {
   "cell_type": "markdown",
   "metadata": {},
   "source": [
    "## 2 数据基本信息"
   ]
  },
  {
   "cell_type": "code",
   "execution_count": 5,
   "metadata": {},
   "outputs": [
    {
     "data": {
      "text/html": [
       "<div>\n",
       "<style scoped>\n",
       "    .dataframe tbody tr th:only-of-type {\n",
       "        vertical-align: middle;\n",
       "    }\n",
       "\n",
       "    .dataframe tbody tr th {\n",
       "        vertical-align: top;\n",
       "    }\n",
       "\n",
       "    .dataframe thead th {\n",
       "        text-align: right;\n",
       "    }\n",
       "</style>\n",
       "<table border=\"1\" class=\"dataframe\">\n",
       "  <thead>\n",
       "    <tr style=\"text-align: right;\">\n",
       "      <th></th>\n",
       "      <th>object_id</th>\n",
       "      <th>ra</th>\n",
       "      <th>decl</th>\n",
       "      <th>gal_l</th>\n",
       "      <th>gal_b</th>\n",
       "      <th>ddf</th>\n",
       "      <th>hostgal_specz</th>\n",
       "      <th>hostgal_photoz</th>\n",
       "      <th>hostgal_photoz_err</th>\n",
       "      <th>distmod</th>\n",
       "      <th>mwebv</th>\n",
       "      <th>target</th>\n",
       "    </tr>\n",
       "  </thead>\n",
       "  <tbody>\n",
       "    <tr>\n",
       "      <th>count</th>\n",
       "      <td>7.848000e+03</td>\n",
       "      <td>7848.000000</td>\n",
       "      <td>7848.000000</td>\n",
       "      <td>7848.000000</td>\n",
       "      <td>7848.000000</td>\n",
       "      <td>7848.000000</td>\n",
       "      <td>7848.000000</td>\n",
       "      <td>7848.000000</td>\n",
       "      <td>7848.000000</td>\n",
       "      <td>5523.000000</td>\n",
       "      <td>7848.000000</td>\n",
       "      <td>7848.000000</td>\n",
       "    </tr>\n",
       "    <tr>\n",
       "      <th>mean</th>\n",
       "      <td>4.810375e+07</td>\n",
       "      <td>169.719379</td>\n",
       "      <td>-27.254846</td>\n",
       "      <td>230.466784</td>\n",
       "      <td>-20.115526</td>\n",
       "      <td>0.269623</td>\n",
       "      <td>0.254436</td>\n",
       "      <td>0.357885</td>\n",
       "      <td>0.155695</td>\n",
       "      <td>41.263961</td>\n",
       "      <td>0.081953</td>\n",
       "      <td>60.895387</td>\n",
       "    </tr>\n",
       "    <tr>\n",
       "      <th>std</th>\n",
       "      <td>4.347364e+07</td>\n",
       "      <td>114.212761</td>\n",
       "      <td>20.248556</td>\n",
       "      <td>97.416392</td>\n",
       "      <td>40.390899</td>\n",
       "      <td>0.443792</td>\n",
       "      <td>0.330053</td>\n",
       "      <td>0.545552</td>\n",
       "      <td>0.300367</td>\n",
       "      <td>2.262711</td>\n",
       "      <td>0.150598</td>\n",
       "      <td>28.767984</td>\n",
       "    </tr>\n",
       "    <tr>\n",
       "      <th>min</th>\n",
       "      <td>6.150000e+02</td>\n",
       "      <td>0.175781</td>\n",
       "      <td>-64.760857</td>\n",
       "      <td>0.107681</td>\n",
       "      <td>-89.615573</td>\n",
       "      <td>0.000000</td>\n",
       "      <td>0.000000</td>\n",
       "      <td>0.000000</td>\n",
       "      <td>0.000000</td>\n",
       "      <td>31.996100</td>\n",
       "      <td>0.003000</td>\n",
       "      <td>6.000000</td>\n",
       "    </tr>\n",
       "    <tr>\n",
       "      <th>25%</th>\n",
       "      <td>3.180865e+05</td>\n",
       "      <td>62.402344</td>\n",
       "      <td>-44.597992</td>\n",
       "      <td>207.248509</td>\n",
       "      <td>-54.509752</td>\n",
       "      <td>0.000000</td>\n",
       "      <td>0.000000</td>\n",
       "      <td>0.000000</td>\n",
       "      <td>0.000000</td>\n",
       "      <td>39.845250</td>\n",
       "      <td>0.018000</td>\n",
       "      <td>42.000000</td>\n",
       "    </tr>\n",
       "    <tr>\n",
       "      <th>50%</th>\n",
       "      <td>4.131719e+07</td>\n",
       "      <td>150.996094</td>\n",
       "      <td>-27.279613</td>\n",
       "      <td>244.127187</td>\n",
       "      <td>-30.217582</td>\n",
       "      <td>0.000000</td>\n",
       "      <td>0.182750</td>\n",
       "      <td>0.210300</td>\n",
       "      <td>0.018000</td>\n",
       "      <td>41.167900</td>\n",
       "      <td>0.032000</td>\n",
       "      <td>65.000000</td>\n",
       "    </tr>\n",
       "    <tr>\n",
       "      <th>75%</th>\n",
       "      <td>8.665901e+07</td>\n",
       "      <td>282.875976</td>\n",
       "      <td>-8.838267</td>\n",
       "      <td>313.224277</td>\n",
       "      <td>16.913859</td>\n",
       "      <td>1.000000</td>\n",
       "      <td>0.350125</td>\n",
       "      <td>0.431200</td>\n",
       "      <td>0.122375</td>\n",
       "      <td>42.398550</td>\n",
       "      <td>0.076000</td>\n",
       "      <td>90.000000</td>\n",
       "    </tr>\n",
       "    <tr>\n",
       "      <th>max</th>\n",
       "      <td>1.307798e+08</td>\n",
       "      <td>359.824219</td>\n",
       "      <td>4.181528</td>\n",
       "      <td>359.943827</td>\n",
       "      <td>65.931317</td>\n",
       "      <td>1.000000</td>\n",
       "      <td>3.445100</td>\n",
       "      <td>2.999400</td>\n",
       "      <td>1.734800</td>\n",
       "      <td>47.025600</td>\n",
       "      <td>2.747000</td>\n",
       "      <td>95.000000</td>\n",
       "    </tr>\n",
       "  </tbody>\n",
       "</table>\n",
       "</div>"
      ],
      "text/plain": [
       "          object_id           ra         decl        gal_l        gal_b  \\\n",
       "count  7.848000e+03  7848.000000  7848.000000  7848.000000  7848.000000   \n",
       "mean   4.810375e+07   169.719379   -27.254846   230.466784   -20.115526   \n",
       "std    4.347364e+07   114.212761    20.248556    97.416392    40.390899   \n",
       "min    6.150000e+02     0.175781   -64.760857     0.107681   -89.615573   \n",
       "25%    3.180865e+05    62.402344   -44.597992   207.248509   -54.509752   \n",
       "50%    4.131719e+07   150.996094   -27.279613   244.127187   -30.217582   \n",
       "75%    8.665901e+07   282.875976    -8.838267   313.224277    16.913859   \n",
       "max    1.307798e+08   359.824219     4.181528   359.943827    65.931317   \n",
       "\n",
       "               ddf  hostgal_specz  hostgal_photoz  hostgal_photoz_err  \\\n",
       "count  7848.000000    7848.000000     7848.000000         7848.000000   \n",
       "mean      0.269623       0.254436        0.357885            0.155695   \n",
       "std       0.443792       0.330053        0.545552            0.300367   \n",
       "min       0.000000       0.000000        0.000000            0.000000   \n",
       "25%       0.000000       0.000000        0.000000            0.000000   \n",
       "50%       0.000000       0.182750        0.210300            0.018000   \n",
       "75%       1.000000       0.350125        0.431200            0.122375   \n",
       "max       1.000000       3.445100        2.999400            1.734800   \n",
       "\n",
       "           distmod        mwebv       target  \n",
       "count  5523.000000  7848.000000  7848.000000  \n",
       "mean     41.263961     0.081953    60.895387  \n",
       "std       2.262711     0.150598    28.767984  \n",
       "min      31.996100     0.003000     6.000000  \n",
       "25%      39.845250     0.018000    42.000000  \n",
       "50%      41.167900     0.032000    65.000000  \n",
       "75%      42.398550     0.076000    90.000000  \n",
       "max      47.025600     2.747000    95.000000  "
      ]
     },
     "execution_count": 5,
     "metadata": {},
     "output_type": "execute_result"
    }
   ],
   "source": [
    "train_metadata.describe()"
   ]
  },
  {
   "cell_type": "code",
   "execution_count": 6,
   "metadata": {},
   "outputs": [
    {
     "name": "stdout",
     "output_type": "stream",
     "text": [
      "<class 'pandas.core.frame.DataFrame'>\n",
      "RangeIndex: 7848 entries, 0 to 7847\n",
      "Data columns (total 12 columns):\n",
      "object_id             7848 non-null int64\n",
      "ra                    7848 non-null float64\n",
      "decl                  7848 non-null float64\n",
      "gal_l                 7848 non-null float64\n",
      "gal_b                 7848 non-null float64\n",
      "ddf                   7848 non-null int64\n",
      "hostgal_specz         7848 non-null float64\n",
      "hostgal_photoz        7848 non-null float64\n",
      "hostgal_photoz_err    7848 non-null float64\n",
      "distmod               5523 non-null float64\n",
      "mwebv                 7848 non-null float64\n",
      "target                7848 non-null int64\n",
      "dtypes: float64(9), int64(3)\n",
      "memory usage: 735.8 KB\n"
     ]
    }
   ],
   "source": [
    "train_metadata.info()"
   ]
  },
  {
   "cell_type": "code",
   "execution_count": 7,
   "metadata": {},
   "outputs": [
    {
     "name": "stdout",
     "output_type": "stream",
     "text": [
      "object_id 0\n",
      "ra 0\n",
      "decl 0\n",
      "gal_l 0\n",
      "gal_b 0\n",
      "ddf 0\n",
      "hostgal_specz 0\n",
      "hostgal_photoz 0\n",
      "hostgal_photoz_err 0\n",
      "distmod 2325\n",
      "mwebv 0\n",
      "target 0\n"
     ]
    }
   ],
   "source": [
    "for v in train_metadata.columns:\n",
    "    print(v, train_metadata[v].isna().sum())"
   ]
  },
  {
   "cell_type": "code",
   "execution_count": 9,
   "metadata": {},
   "outputs": [
    {
     "ename": "NameError",
     "evalue": "name 'DataFrameSummary' is not defined",
     "output_type": "error",
     "traceback": [
      "\u001b[1;31m---------------------------------------------------------------------------\u001b[0m",
      "\u001b[1;31mNameError\u001b[0m                                 Traceback (most recent call last)",
      "\u001b[1;32m<ipython-input-9-41b7f604f641>\u001b[0m in \u001b[0;36m<module>\u001b[1;34m()\u001b[0m\n\u001b[1;32m----> 1\u001b[1;33m \u001b[0mdisplay\u001b[0m\u001b[1;33m(\u001b[0m\u001b[0mDataFrameSummary\u001b[0m\u001b[1;33m(\u001b[0m\u001b[0mtrain_metadata\u001b[0m\u001b[1;33m)\u001b[0m\u001b[1;33m.\u001b[0m\u001b[0msummary\u001b[0m\u001b[1;33m(\u001b[0m\u001b[1;33m)\u001b[0m\u001b[1;33m)\u001b[0m\u001b[1;33m\u001b[0m\u001b[0m\n\u001b[0m",
      "\u001b[1;31mNameError\u001b[0m: name 'DataFrameSummary' is not defined"
     ]
    }
   ],
   "source": []
  },
  {
   "cell_type": "code",
   "execution_count": null,
   "metadata": {},
   "outputs": [],
   "source": []
  }
 ],
 "metadata": {
  "kernelspec": {
   "display_name": "Python 3",
   "language": "python",
   "name": "python3"
  },
  "language_info": {
   "codemirror_mode": {
    "name": "ipython",
    "version": 3
   },
   "file_extension": ".py",
   "mimetype": "text/x-python",
   "name": "python",
   "nbconvert_exporter": "python",
   "pygments_lexer": "ipython3",
   "version": "3.6.4"
  }
 },
 "nbformat": 4,
 "nbformat_minor": 2
}
